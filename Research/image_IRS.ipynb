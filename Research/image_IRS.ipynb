{
 "cells": [
  {
   "cell_type": "code",
   "execution_count": 12,
   "metadata": {},
   "outputs": [
    {
     "name": "stderr",
     "output_type": "stream",
     "text": [
      "WARNING: Skipping scikit-learn as it is not installed.\n"
     ]
    },
    {
     "name": "stdout",
     "output_type": "stream",
     "text": [
      "Collecting scikit-learn\n",
      "  Using cached scikit_learn-1.5.1-cp311-cp311-win_amd64.whl.metadata (12 kB)\n",
      "Requirement already satisfied: numpy>=1.19.5 in e:\\ai_projects\\images_ris\\venv\\lib\\site-packages (from scikit-learn) (2.1.0)\n",
      "Collecting scipy>=1.6.0 (from scikit-learn)\n",
      "  Downloading scipy-1.14.1-cp311-cp311-win_amd64.whl.metadata (60 kB)\n",
      "Collecting joblib>=1.2.0 (from scikit-learn)\n",
      "  Using cached joblib-1.4.2-py3-none-any.whl.metadata (5.4 kB)\n",
      "Collecting threadpoolctl>=3.1.0 (from scikit-learn)\n",
      "  Using cached threadpoolctl-3.5.0-py3-none-any.whl.metadata (13 kB)\n",
      "Using cached scikit_learn-1.5.1-cp311-cp311-win_amd64.whl (11.0 MB)\n",
      "Using cached joblib-1.4.2-py3-none-any.whl (301 kB)\n",
      "Downloading scipy-1.14.1-cp311-cp311-win_amd64.whl (44.8 MB)\n",
      "   ---------------------------------------- 0.0/44.8 MB ? eta -:--:--\n",
      "   - -------------------------------------- 1.3/44.8 MB 6.7 MB/s eta 0:00:07\n",
      "   --- ------------------------------------ 3.7/44.8 MB 9.1 MB/s eta 0:00:05\n",
      "   ------ --------------------------------- 6.8/44.8 MB 11.3 MB/s eta 0:00:04\n",
      "   --------- ------------------------------ 10.5/44.8 MB 12.8 MB/s eta 0:00:03\n",
      "   ------------- -------------------------- 15.5/44.8 MB 15.0 MB/s eta 0:00:02\n",
      "   ------------------ --------------------- 20.7/44.8 MB 16.6 MB/s eta 0:00:02\n",
      "   ----------------------- ---------------- 26.7/44.8 MB 18.2 MB/s eta 0:00:01\n",
      "   ---------------------------- ----------- 32.0/44.8 MB 19.0 MB/s eta 0:00:01\n",
      "   ---------------------------------- ----- 38.8/44.8 MB 20.6 MB/s eta 0:00:01\n",
      "   ---------------------------------------  44.6/44.8 MB 21.8 MB/s eta 0:00:01\n",
      "   ---------------------------------------  44.6/44.8 MB 21.8 MB/s eta 0:00:01\n",
      "   ---------------------------------------- 44.8/44.8 MB 18.4 MB/s eta 0:00:00\n",
      "Using cached threadpoolctl-3.5.0-py3-none-any.whl (18 kB)\n",
      "Installing collected packages: threadpoolctl, scipy, joblib, scikit-learn\n",
      "Successfully installed joblib-1.4.2 scikit-learn-1.5.1 scipy-1.14.1 threadpoolctl-3.5.0\n",
      "scikit-learn version: 1.5.1\n"
     ]
    }
   ],
   "source": [
    "'''\n",
    "! pip uninstall torch torchvision torchaudio -y\n",
    "! pip install torch==2.1.2 torchvision==0.16.2 torchaudio==2.1.2\n",
    "\n",
    "! pip install transformers\n",
    "from transformers import CLIPProcessor, CLIPModel\n",
    "print(\"Transformers library installed successfully!\")\n",
    "\n",
    "! pip uninstall scikit-learn\n",
    "! pip install scikit-learn\n",
    "\n",
    "import sklearn\n",
    "from sklearn.metrics.pairwise import cosine_similarity\n",
    "print(\"scikit-learn version:\", sklearn.__version__)\n",
    "\n",
    "! pip install pillow\n",
    "'''\n",
    "\n"
   ]
  },
  {
   "cell_type": "code",
   "execution_count": 26,
   "metadata": {},
   "outputs": [
    {
     "name": "stdout",
     "output_type": "stream",
     "text": [
      "Requirement already satisfied: pillow in e:\\ai_projects\\images_ris\\venv\\lib\\site-packages (10.4.0)\n"
     ]
    }
   ],
   "source": []
  },
  {
   "cell_type": "code",
   "execution_count": 12,
   "metadata": {},
   "outputs": [
    {
     "name": "stdout",
     "output_type": "stream",
     "text": [
      "Comparing using ResNet-50...\n"
     ]
    },
    {
     "name": "stderr",
     "output_type": "stream",
     "text": [
      "e:\\AI_Projects\\Images_RIS\\venv\\Lib\\site-packages\\torchvision\\models\\_utils.py:208: UserWarning: The parameter 'pretrained' is deprecated since 0.13 and may be removed in the future, please use 'weights' instead.\n",
      "  warnings.warn(\n",
      "e:\\AI_Projects\\Images_RIS\\venv\\Lib\\site-packages\\torchvision\\models\\_utils.py:223: UserWarning: Arguments other than a weight enum or `None` for 'weights' are deprecated since 0.13 and may be removed in the future. The current behavior is equivalent to passing `weights=ResNet50_Weights.IMAGENET1K_V1`. You can also use `weights=ResNet50_Weights.DEFAULT` to get the most up-to-date weights.\n",
      "  warnings.warn(msg)\n",
      "Downloading: \"https://download.pytorch.org/models/resnet50-0676ba61.pth\" to C:\\Users\\Hafeez/.cache\\torch\\hub\\checkpoints\\resnet50-0676ba61.pth\n",
      "100%|██████████| 97.8M/97.8M [00:04<00:00, 21.3MB/s]\n",
      "  0%|          | 0/1 [00:00<?, ?it/s]\n"
     ]
    },
    {
     "ename": "AttributeError",
     "evalue": "'Image' object has no attribute 'read'",
     "output_type": "error",
     "traceback": [
      "\u001b[1;31m---------------------------------------------------------------------------\u001b[0m",
      "\u001b[1;31mAttributeError\u001b[0m                            Traceback (most recent call last)",
      "Cell \u001b[1;32mIn[12], line 90\u001b[0m\n\u001b[0;32m     88\u001b[0m \u001b[38;5;66;03m# Extract features and compare\u001b[39;00m\n\u001b[0;32m     89\u001b[0m \u001b[38;5;28mprint\u001b[39m(\u001b[38;5;124m\"\u001b[39m\u001b[38;5;124mComparing using ResNet-50...\u001b[39m\u001b[38;5;124m\"\u001b[39m)\n\u001b[1;32m---> 90\u001b[0m similarities_resnet \u001b[38;5;241m=\u001b[39m \u001b[43mcompare_techniques\u001b[49m\u001b[43m(\u001b[49m\u001b[43mquery_image\u001b[49m\u001b[43m,\u001b[49m\u001b[43m \u001b[49m\u001b[43msample_images\u001b[49m\u001b[43m,\u001b[49m\u001b[43m \u001b[49m\u001b[43mextract_features_resnet\u001b[49m\u001b[43m)\u001b[49m\n\u001b[0;32m     92\u001b[0m \u001b[38;5;28mprint\u001b[39m(\u001b[38;5;124m\"\u001b[39m\u001b[38;5;124mComparing using CLIP...\u001b[39m\u001b[38;5;124m\"\u001b[39m)\n\u001b[0;32m     93\u001b[0m similarities_clip \u001b[38;5;241m=\u001b[39m compare_techniques(query_image, sample_images, extract_features_clip, clip_processor, clip_model)\n",
      "Cell \u001b[1;32mIn[12], line 62\u001b[0m, in \u001b[0;36mcompare_techniques\u001b[1;34m(query_img, images, feature_extractor, processor, model)\u001b[0m\n\u001b[0;32m     59\u001b[0m \u001b[38;5;28;01mdef\u001b[39;00m \u001b[38;5;21mcompare_techniques\u001b[39m(query_img, images, feature_extractor, processor\u001b[38;5;241m=\u001b[39m\u001b[38;5;28;01mNone\u001b[39;00m, model\u001b[38;5;241m=\u001b[39m\u001b[38;5;28;01mNone\u001b[39;00m):\n\u001b[0;32m     60\u001b[0m     \u001b[38;5;28;01mif\u001b[39;00m processor \u001b[38;5;129;01mis\u001b[39;00m \u001b[38;5;28;01mNone\u001b[39;00m \u001b[38;5;129;01mor\u001b[39;00m model \u001b[38;5;129;01mis\u001b[39;00m \u001b[38;5;28;01mNone\u001b[39;00m:\n\u001b[0;32m     61\u001b[0m         \u001b[38;5;66;03m# Feature extractor does not need processor and model\u001b[39;00m\n\u001b[1;32m---> 62\u001b[0m         query_feature \u001b[38;5;241m=\u001b[39m \u001b[43mfeature_extractor\u001b[49m\u001b[43m(\u001b[49m\u001b[43m[\u001b[49m\u001b[43mquery_img\u001b[49m\u001b[43m]\u001b[49m\u001b[43m)\u001b[49m[\u001b[38;5;241m0\u001b[39m]\n\u001b[0;32m     63\u001b[0m         image_features \u001b[38;5;241m=\u001b[39m feature_extractor(images)\n\u001b[0;32m     64\u001b[0m     \u001b[38;5;28;01melse\u001b[39;00m:\n\u001b[0;32m     65\u001b[0m         \u001b[38;5;66;03m# Feature extractor needs processor and model\u001b[39;00m\n",
      "Cell \u001b[1;32mIn[12], line 39\u001b[0m, in \u001b[0;36mextract_features_resnet\u001b[1;34m(images)\u001b[0m\n\u001b[0;32m     37\u001b[0m features \u001b[38;5;241m=\u001b[39m []\n\u001b[0;32m     38\u001b[0m \u001b[38;5;28;01mfor\u001b[39;00m img_path \u001b[38;5;129;01min\u001b[39;00m tqdm(images):\n\u001b[1;32m---> 39\u001b[0m     img \u001b[38;5;241m=\u001b[39m \u001b[43mImage\u001b[49m\u001b[38;5;241;43m.\u001b[39;49m\u001b[43mopen\u001b[49m\u001b[43m(\u001b[49m\u001b[43mimg_path\u001b[49m\u001b[43m)\u001b[49m\u001b[38;5;241m.\u001b[39mconvert(\u001b[38;5;124m\"\u001b[39m\u001b[38;5;124mRGB\u001b[39m\u001b[38;5;124m\"\u001b[39m)\n\u001b[0;32m     40\u001b[0m     img_tensor \u001b[38;5;241m=\u001b[39m preprocess_image(img)\n\u001b[0;32m     41\u001b[0m     \u001b[38;5;28;01mwith\u001b[39;00m torch\u001b[38;5;241m.\u001b[39mno_grad():\n",
      "File \u001b[1;32me:\\AI_Projects\\Images_RIS\\venv\\Lib\\site-packages\\PIL\\Image.py:3442\u001b[0m, in \u001b[0;36mopen\u001b[1;34m(fp, mode, formats)\u001b[0m\n\u001b[0;32m   3439\u001b[0m     fp \u001b[38;5;241m=\u001b[39m io\u001b[38;5;241m.\u001b[39mBytesIO(fp\u001b[38;5;241m.\u001b[39mread())\n\u001b[0;32m   3440\u001b[0m     exclusive_fp \u001b[38;5;241m=\u001b[39m \u001b[38;5;28;01mTrue\u001b[39;00m\n\u001b[1;32m-> 3442\u001b[0m prefix \u001b[38;5;241m=\u001b[39m \u001b[43mfp\u001b[49m\u001b[38;5;241;43m.\u001b[39;49m\u001b[43mread\u001b[49m(\u001b[38;5;241m16\u001b[39m)\n\u001b[0;32m   3444\u001b[0m preinit()\n\u001b[0;32m   3446\u001b[0m warning_messages: \u001b[38;5;28mlist\u001b[39m[\u001b[38;5;28mstr\u001b[39m] \u001b[38;5;241m=\u001b[39m []\n",
      "\u001b[1;31mAttributeError\u001b[0m: 'Image' object has no attribute 'read'"
     ]
    }
   ],
   "source": [
    "import sys\n",
    "import numpy as np\n",
    "import torch\n",
    "from sklearn.metrics.pairwise import cosine_similarity\n",
    "import sklearn\n",
    "from PIL import Image\n",
    "import matplotlib.pyplot as plt\n",
    "from tqdm import tqdm\n",
    "from torchvision import models, transforms\n",
    "from transformers import CLIPProcessor, CLIPModel\n",
    "import os\n",
    "\n",
    "# Define the path to your images\n",
    "image_dir = 'E:/Oxford-pets/images'\n",
    "\n",
    "# Load the Oxford Pets dataset from local directory\n",
    "def load_dataset(image_dir):\n",
    "    image_files = [os.path.join(image_dir, f) for f in os.listdir(image_dir) if f.endswith('.jpg')]\n",
    "    return image_files\n",
    "\n",
    "train_dataset = load_dataset(image_dir)\n",
    "\n",
    "# Define image transformations for pre-processing\n",
    "def preprocess_image(image):\n",
    "    preprocess = transforms.Compose([\n",
    "        transforms.Resize(256),\n",
    "        transforms.CenterCrop(224),\n",
    "        transforms.ToTensor(),\n",
    "        transforms.Normalize(mean=[0.485, 0.456, 0.406], std=[0.229, 0.224, 0.225]),\n",
    "    ])\n",
    "    return preprocess(image)\n",
    "\n",
    "# 1. Feature Extraction using ResNet-50\n",
    "def extract_features_resnet(images):\n",
    "    model = models.resnet50(pretrained=True)\n",
    "    model.eval()\n",
    "    features = []\n",
    "    for img_path in tqdm(images):\n",
    "        img = Image.open(img_path).convert(\"RGB\")\n",
    "        img_tensor = preprocess_image(img)\n",
    "        with torch.no_grad():\n",
    "            feature = model(img_tensor.unsqueeze(0)).numpy().flatten()\n",
    "            features.append(feature)\n",
    "    return np.array(features)\n",
    "\n",
    "# 2. Feature Extraction using CLIP\n",
    "def extract_features_clip(images, processor, model):\n",
    "    features = []\n",
    "    for img_path in tqdm(images):\n",
    "        img = Image.open(img_path).convert(\"RGB\")\n",
    "        inputs = processor(images=img, return_tensors=\"pt\")\n",
    "        with torch.no_grad():\n",
    "            feature = model.get_image_features(**inputs).numpy().flatten()\n",
    "            features.append(feature)\n",
    "    return np.array(features)\n",
    "\n",
    "# Compare different techniques\n",
    "\n",
    "def compare_techniques(query_img, images, feature_extractor, processor=None, model=None):\n",
    "    if processor is None or model is None:\n",
    "        # Feature extractor does not need processor and model\n",
    "        # Ensure that query_img and images are file paths\n",
    "        query_feature = feature_extractor([query_img])[0]\n",
    "        image_features = feature_extractor(images)\n",
    "    else:\n",
    "        # Feature extractor needs processor and model\n",
    "        # Ensure that query_img and images are PIL Images\n",
    "        query_feature = feature_extractor([query_img], processor, model)[0]\n",
    "        image_features = feature_extractor(images, processor, model)\n",
    "    similarities = cosine_similarity([query_feature], image_features)\n",
    "    return similarities[0]\n",
    "\n",
    "\n",
    "# Load a sample image for querying\n",
    "def load_sample_image(image_path):\n",
    "    return Image.open(image_path)\n",
    "\n",
    "if __name__ == \"__main__\":\n",
    "    # Load sample images\n",
    "    sample_images = [img_path for img_path in train_dataset[:10]]  # Taking file paths for ResNet-50\n",
    "\n",
    "    # CLIP Processor and Model\n",
    "    clip_processor = CLIPProcessor.from_pretrained(\"openai/clip-vit-base-patch32\")\n",
    "    clip_model = CLIPModel.from_pretrained(\"openai/clip-vit-base-patch32\")\n",
    "\n",
    "    # Load and preprocess query image\n",
    "    query_image_path = 'E:/Oxford-pets/archive/images/images/Abyssinian_48.jpg'\n",
    "    query_image = Image.open(query_image_path).convert(\"RGB\")\n",
    "\n",
    "    # Extract features and compare\n",
    "    print(\"Comparing using ResNet-50...\")\n",
    "    similarities_resnet = compare_techniques(query_image_path, sample_images, extract_features_resnet)\n",
    "\n",
    "    print(\"Comparing using CLIP...\")\n",
    "    similarities_clip = compare_techniques(query_image, sample_images, extract_features_clip, clip_processor, clip_model)\n",
    "\n",
    "    # Print top-5 similar images\n",
    "    print(\"Top-5 most similar images using ResNet-50:\")\n",
    "    top5_resnet = np.argsort(similarities_resnet)[-5:]\n",
    "    print(top5_resnet)\n",
    "\n",
    "    print(\"Top-5 most similar images using CLIP:\")\n",
    "    top5_clip = np.argsort(similarities_clip)[-5:]\n",
    "    print(top5_clip)\n",
    "\n"
   ]
  },
  {
   "cell_type": "code",
   "execution_count": 2,
   "metadata": {},
   "outputs": [],
   "source": []
  },
  {
   "cell_type": "code",
   "execution_count": 3,
   "metadata": {},
   "outputs": [],
   "source": []
  },
  {
   "cell_type": "code",
   "execution_count": 4,
   "metadata": {},
   "outputs": [],
   "source": []
  },
  {
   "cell_type": "code",
   "execution_count": 5,
   "metadata": {},
   "outputs": [],
   "source": []
  },
  {
   "cell_type": "code",
   "execution_count": 6,
   "metadata": {},
   "outputs": [],
   "source": []
  },
  {
   "cell_type": "code",
   "execution_count": 10,
   "metadata": {},
   "outputs": [
    {
     "name": "stdout",
     "output_type": "stream",
     "text": [
      "Comparing using ResNet-50...\n"
     ]
    },
    {
     "ename": "TypeError",
     "evalue": "extract_features_resnet() takes 1 positional argument but 3 were given",
     "output_type": "error",
     "traceback": [
      "\u001b[1;31m---------------------------------------------------------------------------\u001b[0m",
      "\u001b[1;31mTypeError\u001b[0m                                 Traceback (most recent call last)",
      "Cell \u001b[1;32mIn[10], line 15\u001b[0m\n\u001b[0;32m     12\u001b[0m \u001b[38;5;66;03m# Extract features and compare\u001b[39;00m\n\u001b[0;32m     13\u001b[0m \u001b[38;5;28mprint\u001b[39m(\u001b[38;5;124m\"\u001b[39m\u001b[38;5;124mComparing using ResNet-50...\u001b[39m\u001b[38;5;124m\"\u001b[39m)\n\u001b[1;32m---> 15\u001b[0m similarities_resnet \u001b[38;5;241m=\u001b[39m \u001b[43mcompare_techniques\u001b[49m\u001b[43m(\u001b[49m\u001b[43mquery_image\u001b[49m\u001b[43m,\u001b[49m\u001b[43m \u001b[49m\u001b[43msample_images\u001b[49m\u001b[43m,\u001b[49m\u001b[43m \u001b[49m\u001b[43mextract_features_resnet\u001b[49m\u001b[43m)\u001b[49m\n\u001b[0;32m     17\u001b[0m \u001b[38;5;28mprint\u001b[39m(\u001b[38;5;124m\"\u001b[39m\u001b[38;5;124mComparing using CLIP...\u001b[39m\u001b[38;5;124m\"\u001b[39m)\n\u001b[0;32m     18\u001b[0m similarities_clip \u001b[38;5;241m=\u001b[39m compare_techniques(query_image, sample_images, extract_features_clip, clip_processor, clip_model)\n",
      "Cell \u001b[1;32mIn[5], line 14\u001b[0m, in \u001b[0;36mcompare_techniques\u001b[1;34m(query_img, images, feature_extractor, processor, model)\u001b[0m\n\u001b[0;32m     13\u001b[0m \u001b[38;5;28;01mdef\u001b[39;00m \u001b[38;5;21mcompare_techniques\u001b[39m(query_img, images, feature_extractor, processor\u001b[38;5;241m=\u001b[39m\u001b[38;5;28;01mNone\u001b[39;00m, model\u001b[38;5;241m=\u001b[39m\u001b[38;5;28;01mNone\u001b[39;00m):\n\u001b[1;32m---> 14\u001b[0m     query_feature \u001b[38;5;241m=\u001b[39m \u001b[43mfeature_extractor\u001b[49m\u001b[43m(\u001b[49m\u001b[43m[\u001b[49m\u001b[43mquery_img\u001b[49m\u001b[43m]\u001b[49m\u001b[43m,\u001b[49m\u001b[43m \u001b[49m\u001b[43mprocessor\u001b[49m\u001b[43m,\u001b[49m\u001b[43m \u001b[49m\u001b[43mmodel\u001b[49m\u001b[43m)\u001b[49m[\u001b[38;5;241m0\u001b[39m]\n\u001b[0;32m     15\u001b[0m     image_features \u001b[38;5;241m=\u001b[39m feature_extractor(images, processor, model)\n\u001b[0;32m     16\u001b[0m     similarities \u001b[38;5;241m=\u001b[39m cosine_similarity([query_feature], image_features)\n",
      "\u001b[1;31mTypeError\u001b[0m: extract_features_resnet() takes 1 positional argument but 3 were given"
     ]
    }
   ],
   "source": []
  },
  {
   "cell_type": "code",
   "execution_count": null,
   "metadata": {},
   "outputs": [],
   "source": [
    "\n",
    "\n",
    "\n"
   ]
  }
 ],
 "metadata": {
  "kernelspec": {
   "display_name": "base",
   "language": "python",
   "name": "python3"
  },
  "language_info": {
   "codemirror_mode": {
    "name": "ipython",
    "version": 3
   },
   "file_extension": ".py",
   "mimetype": "text/x-python",
   "name": "python",
   "nbconvert_exporter": "python",
   "pygments_lexer": "ipython3",
   "version": "3.11.7"
  }
 },
 "nbformat": 4,
 "nbformat_minor": 2
}
